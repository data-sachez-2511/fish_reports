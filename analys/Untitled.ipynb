{
 "cells": [
  {
   "cell_type": "code",
   "execution_count": 1,
   "metadata": {},
   "outputs": [],
   "source": [
    "import os\n",
    "import sys\n",
    "\n",
    "module_path = os.path.abspath(os.path.join('..'))\n",
    "if module_path not in sys.path:\n",
    "    sys.path.append(module_path)\n",
    "\n",
    "from analys.src.text_vectorizer import BagsOfTheWords, MyWord2Vec"
   ]
  },
  {
   "cell_type": "code",
   "execution_count": 2,
   "metadata": {},
   "outputs": [],
   "source": [
    "bag = MyWord2Vec()"
   ]
  },
  {
   "cell_type": "code",
   "execution_count": 3,
   "metadata": {},
   "outputs": [],
   "source": [
    "import pandas as pd\n",
    "\n",
    "dtt = pd.read_json('C:\\\\Users\\\\Xiaomi\\\\datasets\\\\report_fish\\\\FORUM.json')"
   ]
  },
  {
   "cell_type": "code",
   "execution_count": 4,
   "metadata": {},
   "outputs": [
    {
     "data": {
      "text/html": [
       "<div>\n",
       "<style scoped>\n",
       "    .dataframe tbody tr th:only-of-type {\n",
       "        vertical-align: middle;\n",
       "    }\n",
       "\n",
       "    .dataframe tbody tr th {\n",
       "        vertical-align: top;\n",
       "    }\n",
       "\n",
       "    .dataframe thead th {\n",
       "        text-align: right;\n",
       "    }\n",
       "</style>\n",
       "<table border=\"1\" class=\"dataframe\">\n",
       "  <thead>\n",
       "    <tr style=\"text-align: right;\">\n",
       "      <th></th>\n",
       "      <th>date</th>\n",
       "      <th>id</th>\n",
       "      <th>is_report</th>\n",
       "      <th>main_place</th>\n",
       "      <th>place</th>\n",
       "      <th>text</th>\n",
       "    </tr>\n",
       "  </thead>\n",
       "  <tbody>\n",
       "    <tr>\n",
       "      <th>449094</th>\n",
       "      <td>28.07.2014</td>\n",
       "      <td>622385</td>\n",
       "      <td>False</td>\n",
       "      <td>Другие реки ...</td>\n",
       "      <td>Яуза (Москва)</td>\n",
       "      <td>тема про восьмерку есть, только она умерла, ни...</td>\n",
       "    </tr>\n",
       "    <tr>\n",
       "      <th>511595</th>\n",
       "      <td>1276041600000</td>\n",
       "      <td>49876</td>\n",
       "      <td>True</td>\n",
       "      <td>Харабали, Селитренное</td>\n",
       "      <td>Нижняя Волга.</td>\n",
       "      <td>сегодня      гырусный  ,  блин        отчет  :...</td>\n",
       "    </tr>\n",
       "    <tr>\n",
       "      <th>534565</th>\n",
       "      <td>1474675200000</td>\n",
       "      <td>12955</td>\n",
       "      <td>True</td>\n",
       "      <td>Спиннинг на Озерне.</td>\n",
       "      <td>Озернинское водохранилище.</td>\n",
       "      <td>сегодня   с   12   до   19 .   за   весь   ден...</td>\n",
       "    </tr>\n",
       "    <tr>\n",
       "      <th>82956</th>\n",
       "      <td>06.01.2015</td>\n",
       "      <td>1077648</td>\n",
       "      <td>False</td>\n",
       "      <td>Рузское водохранилище.</td>\n",
       "      <td>Акатово</td>\n",
       "      <td>не за что. спасибо за отчет!</td>\n",
       "    </tr>\n",
       "    <tr>\n",
       "      <th>444684</th>\n",
       "      <td>12.09.2016</td>\n",
       "      <td>429017</td>\n",
       "      <td>False</td>\n",
       "      <td>Нижняя Волга.</td>\n",
       "      <td>Енотаевский р-он сел. Никольское.</td>\n",
       "      <td>мы были ниже по течению. чуть дальше пришиба. ...</td>\n",
       "    </tr>\n",
       "    <tr>\n",
       "      <th>...</th>\n",
       "      <td>...</td>\n",
       "      <td>...</td>\n",
       "      <td>...</td>\n",
       "      <td>...</td>\n",
       "      <td>...</td>\n",
       "      <td>...</td>\n",
       "    </tr>\n",
       "    <tr>\n",
       "      <th>242685</th>\n",
       "      <td>28.06.2018</td>\n",
       "      <td>328998</td>\n",
       "      <td>False</td>\n",
       "      <td>Река Ока.</td>\n",
       "      <td>Ока под Серпуховом.</td>\n",
       "      <td>в прошлом году, проезжая по трассе, видел, что...</td>\n",
       "    </tr>\n",
       "    <tr>\n",
       "      <th>379951</th>\n",
       "      <td>15.09.2016</td>\n",
       "      <td>1022289</td>\n",
       "      <td>False</td>\n",
       "      <td>Рыбинское водохранилище.</td>\n",
       "      <td>Противье</td>\n",
       "      <td>у базы слип хороший, но машину рядом только на...</td>\n",
       "    </tr>\n",
       "    <tr>\n",
       "      <th>37243</th>\n",
       "      <td>23.11.2014</td>\n",
       "      <td>641703</td>\n",
       "      <td>False</td>\n",
       "      <td>Другие реки ...</td>\n",
       "      <td>Пехорка</td>\n",
       "      <td>какой агресивный самэц вспоминаю случай в капо...</td>\n",
       "    </tr>\n",
       "    <tr>\n",
       "      <th>223800</th>\n",
       "      <td>22.07.2015</td>\n",
       "      <td>487962</td>\n",
       "      <td>False</td>\n",
       "      <td>Нижняя Волга.</td>\n",
       "      <td>Состояние дорог - 2</td>\n",
       "      <td>прочитал. да, такое может быть у нас в стране....</td>\n",
       "    </tr>\n",
       "    <tr>\n",
       "      <th>497432</th>\n",
       "      <td>1497139200000</td>\n",
       "      <td>14947</td>\n",
       "      <td>True</td>\n",
       "      <td>Спининг от Дубны до Клинцов</td>\n",
       "      <td>�?ваньковское водохранилище.</td>\n",
       "      <td>понедельник   погода   порадовать ,  поэтому  ...</td>\n",
       "    </tr>\n",
       "  </tbody>\n",
       "</table>\n",
       "<p>1000 rows × 6 columns</p>\n",
       "</div>"
      ],
      "text/plain": [
       "                 date       id  is_report                   main_place  \\\n",
       "449094     28.07.2014   622385      False              Другие реки ...   \n",
       "511595  1276041600000    49876       True        Харабали, Селитренное   \n",
       "534565  1474675200000    12955       True          Спиннинг на Озерне.   \n",
       "82956      06.01.2015  1077648      False       Рузское водохранилище.   \n",
       "444684     12.09.2016   429017      False                Нижняя Волга.   \n",
       "...               ...      ...        ...                          ...   \n",
       "242685     28.06.2018   328998      False                    Река Ока.   \n",
       "379951     15.09.2016  1022289      False     Рыбинское водохранилище.   \n",
       "37243      23.11.2014   641703      False              Другие реки ...   \n",
       "223800     22.07.2015   487962      False                Нижняя Волга.   \n",
       "497432  1497139200000    14947       True  Спининг от Дубны до Клинцов   \n",
       "\n",
       "                                    place  \\\n",
       "449094                      Яуза (Москва)   \n",
       "511595                      Нижняя Волга.   \n",
       "534565         Озернинское водохранилище.   \n",
       "82956                             Акатово   \n",
       "444684  Енотаевский р-он сел. Никольское.   \n",
       "...                                   ...   \n",
       "242685                Ока под Серпуховом.   \n",
       "379951                           Противье   \n",
       "37243                             Пехорка   \n",
       "223800                Состояние дорог - 2   \n",
       "497432       �?ваньковское водохранилище.   \n",
       "\n",
       "                                                     text  \n",
       "449094  тема про восьмерку есть, только она умерла, ни...  \n",
       "511595  сегодня      гырусный  ,  блин        отчет  :...  \n",
       "534565  сегодня   с   12   до   19 .   за   весь   ден...  \n",
       "82956                        не за что. спасибо за отчет!  \n",
       "444684  мы были ниже по течению. чуть дальше пришиба. ...  \n",
       "...                                                   ...  \n",
       "242685  в прошлом году, проезжая по трассе, видел, что...  \n",
       "379951  у базы слип хороший, но машину рядом только на...  \n",
       "37243   какой агресивный самэц вспоминаю случай в капо...  \n",
       "223800  прочитал. да, такое может быть у нас в стране....  \n",
       "497432  понедельник   погода   порадовать ,  поэтому  ...  \n",
       "\n",
       "[1000 rows x 6 columns]"
      ]
     },
     "execution_count": 4,
     "metadata": {},
     "output_type": "execute_result"
    }
   ],
   "source": [
    "dtt = dtt[:1000]\n",
    "dtt"
   ]
  },
  {
   "cell_type": "code",
   "execution_count": 5,
   "metadata": {},
   "outputs": [
    {
     "data": {
      "text/plain": [
       "449094    тема про восьмерку есть, только она умерла, ни...\n",
       "511595    сегодня      гырусный  ,  блин        отчет  :...\n",
       "534565    сегодня   с   12   до   19 .   за   весь   ден...\n",
       "82956                          не за что. спасибо за отчет!\n",
       "444684    мы были ниже по течению. чуть дальше пришиба. ...\n",
       "576927    200   до   400г , далее   с   7   до   8   ни ...\n",
       "373555    мое личное мнение,что добавлять в шары жмых од...\n",
       "574093    сегодня   еле -  еле   выгребать .   изумитель...\n",
       "467578     правда  твоя  евгений!  чё-то  общих  тем  об...\n",
       "533988    вчера   день   в   красновидовый .   цель ,  п...\n",
       "186151    геннадий, александр добрый день.  я отловился ...\n",
       "528163    сегодня   с   15.00   до   18.00    1 .   наро...\n",
       "77043     там резкие глинястые бровки,вот блёсна и пропа...\n",
       "279376    я в прошлом году по перволедку по правой сторо...\n",
       "405525    в том то весь и смысл всех этих акций! :victor...\n",
       "568628    сегодня   в   пакет   напихивать   мелочь ,  а...\n",
       "302479    за шлагбаумом ?  лески поводки крючки какие ? ...\n",
       "458887    этот субъект :d  выскочил на дорогу перед маши...\n",
       "312650                                       присоединяюсь!\n",
       "329695    скорее всего наловишь лаврушек и мелкого подяз...\n",
       "113930    я окуня не ловлю вообще,не интересен  он или в...\n",
       "130456    прям под деревней. дальше к варварино в праздн...\n",
       "378823    по лету ловим так троллом ищем рыбу джигом и в...\n",
       "373511    в прошлом октябре неплохо щучку половил там. н...\n",
       "50182     те что в острове ,были с тараканами ,а другие ...\n",
       "209173    классно отдохнули  :yes:   тоже хочу  я немног...\n",
       "122012    а если бы не было сетевиков и другой нечисти :...\n",
       "5938      зачем ты обсираешь человека,если ничего о нём ...\n",
       "188638    если там живешь или дача-то да а если ехать це...\n",
       "392507    интересная позиция  с такой у нас никогда не и...\n",
       "406436    да все достаточно просто! вес груза с утра 8гр...\n",
       "482976    и от ленина или мяка до могилевского и зеленог...\n",
       "Name: text, dtype: object"
      ]
     },
     "execution_count": 5,
     "metadata": {},
     "output_type": "execute_result"
    }
   ],
   "source": [
    "batch = dtt.text[:32]\n",
    "batch"
   ]
  },
  {
   "cell_type": "code",
   "execution_count": 6,
   "metadata": {},
   "outputs": [],
   "source": [
    "bag.fit(batch)"
   ]
  },
  {
   "cell_type": "code",
   "execution_count": 7,
   "metadata": {},
   "outputs": [
    {
     "data": {
      "text/plain": [
       "[0.006153686,\n",
       " 0.021059975,\n",
       " 0.02043017,\n",
       " 0.0072062514,\n",
       " 0.009717631,\n",
       " 0.020453941,\n",
       " 0.007232435,\n",
       " 0.019805552,\n",
       " 0.016601581,\n",
       " 0.02020964,\n",
       " 0.0071731824,\n",
       " 0.020294176,\n",
       " 0.0068247356,\n",
       " 0.006311712,\n",
       " 0.011935341,\n",
       " 0.021296682,\n",
       " 0.011879521,\n",
       " 0.008870646,\n",
       " -5.989282e-05,\n",
       " 0.006913954,\n",
       " 0.008538449,\n",
       " 0.005453715,\n",
       " 0.005272916,\n",
       " 0.0058461446,\n",
       " 0.0066662286,\n",
       " 0.010766905,\n",
       " 0.009422277,\n",
       " 0.0069338623,\n",
       " 0.0081558395,\n",
       " 0.009334867,\n",
       " 0.0054238555,\n",
       " 0.0069385744]"
      ]
     },
     "execution_count": 7,
     "metadata": {},
     "output_type": "execute_result"
    }
   ],
   "source": [
    "bag.transform(batch)"
   ]
  },
  {
   "cell_type": "code",
   "execution_count": 15,
   "metadata": {},
   "outputs": [
    {
     "name": "stderr",
     "output_type": "stream",
     "text": [
      "C:\\Users\\Xiaomi\\Anaconda3\\lib\\site-packages\\ipykernel_launcher.py:1: DeprecationWarning: Call to deprecated `similarity` (Method will be removed in 4.0.0, use self.wv.similarity() instead).\n",
      "  \"\"\"Entry point for launching an IPython kernel.\n"
     ]
    },
    {
     "data": {
      "text/plain": [
       "0.9892788"
      ]
     },
     "execution_count": 15,
     "metadata": {},
     "output_type": "execute_result"
    }
   ],
   "source": [
    "bag.vectorizer.similarity('сегодня', 'блин')"
   ]
  },
  {
   "cell_type": "code",
   "execution_count": 27,
   "metadata": {},
   "outputs": [
    {
     "name": "stderr",
     "output_type": "stream",
     "text": [
      "C:\\Users\\Xiaomi\\Anaconda3\\lib\\site-packages\\ipykernel_launcher.py:1: DeprecationWarning: Call to deprecated `accuracy` (Method will be removed in 4.0.0, use self.evaluate_word_analogies() instead).\n",
      "  \"\"\"Entry point for launching an IPython kernel.\n"
     ]
    },
    {
     "ename": "TypeError",
     "evalue": "accuracy() missing 1 required positional argument: 'questions'",
     "output_type": "error",
     "traceback": [
      "\u001b[1;31m---------------------------------------------------------------------------\u001b[0m",
      "\u001b[1;31mTypeError\u001b[0m                                 Traceback (most recent call last)",
      "\u001b[1;32m<ipython-input-27-cab331f0dc8f>\u001b[0m in \u001b[0;36m<module>\u001b[1;34m\u001b[0m\n\u001b[1;32m----> 1\u001b[1;33m \u001b[0mbag\u001b[0m\u001b[1;33m.\u001b[0m\u001b[0mvectorizer\u001b[0m\u001b[1;33m.\u001b[0m\u001b[0mwv\u001b[0m\u001b[1;33m.\u001b[0m\u001b[0maccuracy\u001b[0m\u001b[1;33m(\u001b[0m\u001b[1;33m)\u001b[0m\u001b[1;33m\u001b[0m\u001b[1;33m\u001b[0m\u001b[0m\n\u001b[0m",
      "\u001b[1;32m~\\AppData\\Roaming\\Python\\Python37\\site-packages\\gensim\\utils.py\u001b[0m in \u001b[0;36mnew_func1\u001b[1;34m(*args, **kwargs)\u001b[0m\n\u001b[0;32m   1445\u001b[0m                     \u001b[0mstacklevel\u001b[0m\u001b[1;33m=\u001b[0m\u001b[1;36m2\u001b[0m\u001b[1;33m\u001b[0m\u001b[1;33m\u001b[0m\u001b[0m\n\u001b[0;32m   1446\u001b[0m                 )\n\u001b[1;32m-> 1447\u001b[1;33m                 \u001b[1;32mreturn\u001b[0m \u001b[0mfunc\u001b[0m\u001b[1;33m(\u001b[0m\u001b[1;33m*\u001b[0m\u001b[0margs\u001b[0m\u001b[1;33m,\u001b[0m \u001b[1;33m**\u001b[0m\u001b[0mkwargs\u001b[0m\u001b[1;33m)\u001b[0m\u001b[1;33m\u001b[0m\u001b[1;33m\u001b[0m\u001b[0m\n\u001b[0m\u001b[0;32m   1448\u001b[0m \u001b[1;33m\u001b[0m\u001b[0m\n\u001b[0;32m   1449\u001b[0m             \u001b[1;32mreturn\u001b[0m \u001b[0mnew_func1\u001b[0m\u001b[1;33m\u001b[0m\u001b[1;33m\u001b[0m\u001b[0m\n",
      "\u001b[1;31mTypeError\u001b[0m: accuracy() missing 1 required positional argument: 'questions'"
     ]
    }
   ],
   "source": [
    "bag.vectorizer.wv.accuracy()"
   ]
  },
  {
   "cell_type": "code",
   "execution_count": null,
   "metadata": {},
   "outputs": [],
   "source": []
  }
 ],
 "metadata": {
  "kernelspec": {
   "display_name": "Python 3",
   "language": "python",
   "name": "python3"
  },
  "language_info": {
   "codemirror_mode": {
    "name": "ipython",
    "version": 3
   },
   "file_extension": ".py",
   "mimetype": "text/x-python",
   "name": "python",
   "nbconvert_exporter": "python",
   "pygments_lexer": "ipython3",
   "version": "3.7.4"
  }
 },
 "nbformat": 4,
 "nbformat_minor": 2
}
